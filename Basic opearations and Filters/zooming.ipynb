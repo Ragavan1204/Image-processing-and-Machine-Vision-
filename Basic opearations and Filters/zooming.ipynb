{
 "metadata": {
  "language_info": {
   "codemirror_mode": {
    "name": "ipython",
    "version": 3
   },
   "file_extension": ".py",
   "mimetype": "text/x-python",
   "name": "python",
   "nbconvert_exporter": "python",
   "pygments_lexer": "ipython3",
   "version": "3.9.0-final"
  },
  "orig_nbformat": 2,
  "kernelspec": {
   "name": "python3",
   "display_name": "Python 3.9.0 64-bit",
   "metadata": {
    "interpreter": {
     "hash": "5fa49fc0c8bee0afb212c1fac43d5f8f25ffee8414fd81d9c6971de023d6c545"
    }
   }
  }
 },
 "nbformat": 4,
 "nbformat_minor": 2,
 "cells": [
  {
   "source": [
    "# NEAREST NEIGHBOURSCALING"
   ],
   "cell_type": "markdown",
   "metadata": {}
  },
  {
   "cell_type": "code",
   "execution_count": 41,
   "metadata": {},
   "outputs": [
    {
     "output_type": "stream",
     "name": "stdout",
     "text": [
      "300 480\n1200 1920\n"
     ]
    }
   ],
   "source": [
    "import cv2 as cv\n",
    "import numpy as np\n",
    "import matplotlib.pyplot as plt\n",
    "import math\n",
    "\n",
    "def Nearest_Neighbour(image,s_fac):\n",
    "    if len(img.shape)==2: # for grayscale image\n",
    "        dim = np.multiply(img.shape,(scale,scale))\n",
    "        result = np.zeros(dim)\n",
    "    if len(img.shape)==3: #for color image\n",
    "        dim = np.multiply(img.shape,(scale,scale,1))\n",
    "        result = np.zeros(dim)\n",
    "    for i in range(0,dim[0]):\n",
    "        for j in range(0,dim[1]):\n",
    "            result[i,j] = image[int(math.floor(i/scale)),int(math.floor(j/scale))]\n",
    "    return np.uint8(result)\n",
    "    \n",
    "img= cv.imread('./a01images/im02small.png',cv.IMREAD_COLOR)\n",
    "scaling_Factor = 4\n",
    "scaled_image = Nearest_Neighbour(img,scaling_Factor)\n",
    "h1,w1,a1 = img.shape\n",
    "print (h1,w1)\n",
    "h,w,a = scaled_image.shape\n",
    "print (h,w)\n",
    "\n",
    "\n",
    "cv.namedWindow('Original Image',cv.WINDOW_AUTOSIZE)\n",
    "cv.imshow('Original Image',img)\n",
    "cv.imwrite('Original.png',img)\n",
    "cv.waitKey(0)\n",
    "cv.namedWindow('Nearest_Neighbor_Scaled_Image',cv.WINDOW_AUTOSIZE)\n",
    "cv.imshow('Nearest_Neighbor_Scaled_Image',scaled_image)\n",
    "cv.imwrite('Result.png',scaled_image)\n",
    "cv.waitKey(0)\n",
    "cv.destroyAllWindows()\n",
    "\n"
   ]
  },
  {
   "source": [
    "# BILINEAR INTERPOLATION"
   ],
   "cell_type": "markdown",
   "metadata": {}
  },
  {
   "cell_type": "code",
   "execution_count": 42,
   "metadata": {},
   "outputs": [],
   "source": [
    "import cv2 as cv\n",
    "import numpy as np\n",
    "import matplotlib.pyplot as plt\n",
    "import math\n",
    "scale = 4\n",
    "\n",
    "def Bilinear_Interpolation(image,s_fac):\n",
    "    dim = np.multiply(image.shape,(s_fac,s_fac)) #create the resultant image\n",
    "    result = np.zeros(dim)\n",
    "    for i in range(0,image.shape[0]):\n",
    "        for j in range(0,image.shape[1]):\n",
    "            result[i*s_fac,j*s_fac] = image[i,j] #fill the cells of resultant image with a gap of scale\n",
    "    for i in range(0,dim[0]-s_fac):\n",
    "        for j in range(0,dim[1]-s_fac):  \n",
    "            if( (i%s_fac != 0) or (j%s_fac != 0)):  #take a 2x2 grid \n",
    "                h00 = result[int(math.floor(i/scale))*scale , int(math.floor(j/scale))*scale] #base value\n",
    "                h01 = result[int(math.floor(i/scale)+1)*scale , int(math.floor(j/scale))*scale]\n",
    "                h10 = result[int(math.floor(i/scale))*scale , int(math.floor(j/scale)+1)*scale]\n",
    "                h11 = result[int(math.floor(i/scale)+1)*scale ,int(math.floor(j/scale)+1)*scale]\n",
    "                grad_y = math.modf(j/scale)[0]\n",
    "                grad_x = math.modf(i/scale)[0]\n",
    "                base = h00  \n",
    "                diff_x = h01-h00\n",
    "                diff_y = h10-h00\n",
    "                diff_xy= h00-h10-h01+h11\n",
    "                result[i,j] = base + diff_x*grad_x + diff_y*grad_y + diff_xy*grad_x*grad_y\n",
    "    return result.astype('uint8')\n",
    "\n",
    "def bilinear_Scaling(img,s_fac):\n",
    "    if len(img.shape)==2: # for grayscale image\n",
    "        o_row,o_col =img.shape\n",
    "        row=o_row*s_fac\n",
    "        col=o_col*s_fac\n",
    "        out_img=np.zeros((row,col),np.uint8)\n",
    "    if len(img.shape)==3: #for color image\n",
    "        o_row,o_col,channels =img.shape\n",
    "        row=o_row*s_fac\n",
    "        col=o_col*s_fac\n",
    "        out_img=np.zeros((row,col,channels),np.uint8)\n",
    "    sh=row/o_row\n",
    "    sw=col/o_col\n",
    "    for i in range(row):\n",
    "        for j in range(col):\n",
    "            x,y = (i/sh),(j/sw) \n",
    "            p,q=((i+0.0)/sh-x),((j+0.0)/sw-y)\n",
    "            x,y=(int(x)-1),(int(y)-1)\n",
    "            out_img[i, j] =(img[x,y]*(1-p)*(1-q)+img[x,y+1]*q*(1-p)\n",
    "            +img[x+1,y]*(1-q)*p+img[x+1,y+1]*p*q)\n",
    "    return out_img   \n",
    "        \n",
    "img = cv.imread('./a01images/im06small.png',cv.IMREAD_COLOR)\n",
    "scale = 4\n",
    "Processed = bilinear_Scaling(img,scale)\n",
    "cv.imwrite('Org1.png',img)\n",
    "cv.namedWindow('Original Image',cv.WINDOW_AUTOSIZE)\n",
    "cv.imshow('Original Image',img)\n",
    "cv.waitKey(0)\n",
    "cv.namedWindow('Bilinear_Interpolation_Scaled_Image',cv.WINDOW_AUTOSIZE)\n",
    "cv.imshow('Bilinear_Interpolation_Scaled_Image',Processed)\n",
    "cv.imwrite('Re1.png',Processed)\n",
    "cv.waitKey(0)\n",
    "cv.destroyAllWindows()\n"
   ]
  },
  {
   "cell_type": "code",
   "execution_count": 37,
   "metadata": {},
   "outputs": [
    {
     "output_type": "stream",
     "name": "stdout",
     "text": [
      "82266716\n275792436\n"
     ]
    }
   ],
   "source": [
    "\n",
    "img1= cv.imread('./a01images/im02.png',cv.IMREAD_COLOR)\n",
    "img2= cv.imread('./a01images/im06.png',cv.IMREAD_COLOR)\n",
    "SSD_Nearest_neighbour=np.sum((img1-scaled_image)**2)\n",
    "SSD_bilinear=np.sum((img2-Processed)**2)\n",
    "print(SSD_Nearest_neighbour)\n",
    "print(SSD_bilinear)\n",
    "\n"
   ]
  },
  {
   "cell_type": "code",
   "execution_count": null,
   "metadata": {},
   "outputs": [],
   "source": []
  }
 ]
}